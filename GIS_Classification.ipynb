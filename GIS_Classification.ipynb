{
 "cells": [
  {
   "cell_type": "code",
   "execution_count": 1,
   "id": "99ebc4d2",
   "metadata": {
    "execution": {
     "iopub.execute_input": "2024-09-17T07:05:23.114956Z",
     "iopub.status.busy": "2024-09-17T07:05:23.114468Z",
     "iopub.status.idle": "2024-09-17T07:05:25.461917Z",
     "shell.execute_reply": "2024-09-17T07:05:25.460477Z"
    },
    "papermill": {
     "duration": 2.356038,
     "end_time": "2024-09-17T07:05:25.464520",
     "exception": false,
     "start_time": "2024-09-17T07:05:23.108482",
     "status": "completed"
    },
    "tags": []
   },
   "outputs": [],
   "source": [
    "# Импорты\n",
    "import numpy as np\n",
    "import pandas as pd\n",
    "from sklearn import datasets\n",
    "from sklearn.ensemble import RandomForestClassifier\n",
    "from sklearn.compose import ColumnTransformer, make_column_transformer\n",
    "from sklearn.model_selection import train_test_split\n",
    "from sklearn.pipeline import Pipeline, make_pipeline\n",
    "from sklearn.preprocessing import StandardScaler\n",
    "from pathlib import Path"
   ]
  },
  {
   "cell_type": "code",
   "execution_count": 2,
   "id": "3e46990d",
   "metadata": {
    "execution": {
     "iopub.execute_input": "2024-09-17T07:05:25.473858Z",
     "iopub.status.busy": "2024-09-17T07:05:25.473288Z",
     "iopub.status.idle": "2024-09-17T07:05:27.881990Z",
     "shell.execute_reply": "2024-09-17T07:05:27.880886Z"
    },
    "papermill": {
     "duration": 2.416362,
     "end_time": "2024-09-17T07:05:27.884749",
     "exception": false,
     "start_time": "2024-09-17T07:05:25.468387",
     "status": "completed"
    },
    "tags": []
   },
   "outputs": [
    {
     "data": {
      "text/html": [
       "<div>\n",
       "<style scoped>\n",
       "    .dataframe tbody tr th:only-of-type {\n",
       "        vertical-align: middle;\n",
       "    }\n",
       "\n",
       "    .dataframe tbody tr th {\n",
       "        vertical-align: top;\n",
       "    }\n",
       "\n",
       "    .dataframe thead th {\n",
       "        text-align: right;\n",
       "    }\n",
       "</style>\n",
       "<table border=\"1\" class=\"dataframe\">\n",
       "  <thead>\n",
       "    <tr style=\"text-align: right;\">\n",
       "      <th></th>\n",
       "      <th>DEPT</th>\n",
       "      <th>GKIN</th>\n",
       "      <th>TH</th>\n",
       "      <th>U</th>\n",
       "      <th>K</th>\n",
       "      <th>KMV</th>\n",
       "      <th>IK</th>\n",
       "      <th>SM</th>\n",
       "    </tr>\n",
       "  </thead>\n",
       "  <tbody>\n",
       "    <tr>\n",
       "      <th>0</th>\n",
       "      <td>3.5</td>\n",
       "      <td>6.839</td>\n",
       "      <td>5.364</td>\n",
       "      <td>7.364</td>\n",
       "      <td>80.364</td>\n",
       "      <td>97.425</td>\n",
       "      <td>26.438</td>\n",
       "      <td>61939.063</td>\n",
       "    </tr>\n",
       "    <tr>\n",
       "      <th>1</th>\n",
       "      <td>3.6</td>\n",
       "      <td>6.839</td>\n",
       "      <td>6.000</td>\n",
       "      <td>8.000</td>\n",
       "      <td>81.000</td>\n",
       "      <td>103.524</td>\n",
       "      <td>27.102</td>\n",
       "      <td>61961.078</td>\n",
       "    </tr>\n",
       "    <tr>\n",
       "      <th>2</th>\n",
       "      <td>3.7</td>\n",
       "      <td>6.761</td>\n",
       "      <td>8.909</td>\n",
       "      <td>10.182</td>\n",
       "      <td>62.091</td>\n",
       "      <td>119.533</td>\n",
       "      <td>29.099</td>\n",
       "      <td>61826.379</td>\n",
       "    </tr>\n",
       "    <tr>\n",
       "      <th>3</th>\n",
       "      <td>3.8</td>\n",
       "      <td>6.583</td>\n",
       "      <td>9.474</td>\n",
       "      <td>11.000</td>\n",
       "      <td>59.474</td>\n",
       "      <td>130.611</td>\n",
       "      <td>29.884</td>\n",
       "      <td>61762.465</td>\n",
       "    </tr>\n",
       "    <tr>\n",
       "      <th>4</th>\n",
       "      <td>3.9</td>\n",
       "      <td>6.583</td>\n",
       "      <td>8.000</td>\n",
       "      <td>11.000</td>\n",
       "      <td>72.000</td>\n",
       "      <td>141.463</td>\n",
       "      <td>29.783</td>\n",
       "      <td>61761.414</td>\n",
       "    </tr>\n",
       "  </tbody>\n",
       "</table>\n",
       "</div>"
      ],
      "text/plain": [
       "   DEPT   GKIN     TH       U       K      KMV      IK         SM\n",
       "0   3.5  6.839  5.364   7.364  80.364   97.425  26.438  61939.063\n",
       "1   3.6  6.839  6.000   8.000  81.000  103.524  27.102  61961.078\n",
       "2   3.7  6.761  8.909  10.182  62.091  119.533  29.099  61826.379\n",
       "3   3.8  6.583  9.474  11.000  59.474  130.611  29.884  61762.465\n",
       "4   3.9  6.583  8.000  11.000  72.000  141.463  29.783  61761.414"
      ]
     },
     "execution_count": 2,
     "metadata": {},
     "output_type": "execute_result"
    }
   ],
   "source": [
    "# Перевод файлов из csv в dataframe, X_train, y_train\n",
    "X_train_folder = Path(\"/kaggle/input/competition/data_hackaton/train/X\")\n",
    "y_train_folder = Path(\"/kaggle/input/competition/data_hackaton/train/y\")\n",
    "X_test_folder = Path(\"/kaggle/input/competition/data_hackaton/test/X\")\n",
    "\n",
    "X_train = pd.DataFrame()\n",
    "y_train = pd.DataFrame()\n",
    "\n",
    "for X_train_file_path in X_train_folder.iterdir():\n",
    "    if X_train_file_path.name.endswith('csv'):\n",
    "        X_train_file = pd.read_csv(X_train_file_path)\n",
    "        X_train = pd.concat([X_train, X_train_file])\n",
    "    \n",
    "for y_train_file_path in y_train_folder.iterdir():\n",
    "    if y_train_file_path.name.endswith('csv'):\n",
    "        y_train_file = pd.read_csv(y_train_file_path)\n",
    "        y_train = pd.concat([y_train, y_train_file])\n",
    "\n",
    "#X_train, X_test_forus = train_test_split(X_train, test_size = 0.2, shuffle = False)\n",
    "#y_train, y_test_forus = train_test_split(y_train, test_size = 0.2, shuffle = False)\n",
    "\n",
    "y_train_lithology = y_train['lithology']\n",
    "#y_test_lithology = y_test_forus[\"lithology\"]\n",
    "\n",
    "y_train_stratigraphy = y_train['stratigraphy']\n",
    "#y_test_stratigraphy = y_test_forus['stratigraphy']\n",
    "\n",
    "X_train.head()"
   ]
  },
  {
   "cell_type": "code",
   "execution_count": 3,
   "id": "3766aa75",
   "metadata": {
    "execution": {
     "iopub.execute_input": "2024-09-17T07:05:27.894448Z",
     "iopub.status.busy": "2024-09-17T07:05:27.894058Z",
     "iopub.status.idle": "2024-09-17T07:05:27.899745Z",
     "shell.execute_reply": "2024-09-17T07:05:27.898540Z"
    },
    "papermill": {
     "duration": 0.013343,
     "end_time": "2024-09-17T07:05:27.902236",
     "exception": false,
     "start_time": "2024-09-17T07:05:27.888893",
     "status": "completed"
    },
    "tags": []
   },
   "outputs": [],
   "source": [
    "# Выбор features, создание pipeline с нормализацией\n",
    "features = [\"DEPT\", \"GKIN\", \"TH\", \"U\", \"K\", \"KMV\", \"IK\", \"SM\"]\n",
    "numeric_transformer = make_pipeline(StandardScaler())\n",
    "\n",
    "preprocessor = make_column_transformer(\n",
    "    (numeric_transformer, features),\n",
    ")"
   ]
  },
  {
   "cell_type": "code",
   "execution_count": 4,
   "id": "4a10d0f1",
   "metadata": {
    "execution": {
     "iopub.execute_input": "2024-09-17T07:05:27.911822Z",
     "iopub.status.busy": "2024-09-17T07:05:27.911399Z",
     "iopub.status.idle": "2024-09-17T07:05:28.891307Z",
     "shell.execute_reply": "2024-09-17T07:05:28.889981Z"
    },
    "papermill": {
     "duration": 0.98789,
     "end_time": "2024-09-17T07:05:28.894137",
     "exception": false,
     "start_time": "2024-09-17T07:05:27.906247",
     "status": "completed"
    },
    "tags": []
   },
   "outputs": [
    {
     "data": {
      "text/html": [
       "<style>#sk-container-id-1 {color: black;background-color: white;}#sk-container-id-1 pre{padding: 0;}#sk-container-id-1 div.sk-toggleable {background-color: white;}#sk-container-id-1 label.sk-toggleable__label {cursor: pointer;display: block;width: 100%;margin-bottom: 0;padding: 0.3em;box-sizing: border-box;text-align: center;}#sk-container-id-1 label.sk-toggleable__label-arrow:before {content: \"▸\";float: left;margin-right: 0.25em;color: #696969;}#sk-container-id-1 label.sk-toggleable__label-arrow:hover:before {color: black;}#sk-container-id-1 div.sk-estimator:hover label.sk-toggleable__label-arrow:before {color: black;}#sk-container-id-1 div.sk-toggleable__content {max-height: 0;max-width: 0;overflow: hidden;text-align: left;background-color: #f0f8ff;}#sk-container-id-1 div.sk-toggleable__content pre {margin: 0.2em;color: black;border-radius: 0.25em;background-color: #f0f8ff;}#sk-container-id-1 input.sk-toggleable__control:checked~div.sk-toggleable__content {max-height: 200px;max-width: 100%;overflow: auto;}#sk-container-id-1 input.sk-toggleable__control:checked~label.sk-toggleable__label-arrow:before {content: \"▾\";}#sk-container-id-1 div.sk-estimator input.sk-toggleable__control:checked~label.sk-toggleable__label {background-color: #d4ebff;}#sk-container-id-1 div.sk-label input.sk-toggleable__control:checked~label.sk-toggleable__label {background-color: #d4ebff;}#sk-container-id-1 input.sk-hidden--visually {border: 0;clip: rect(1px 1px 1px 1px);clip: rect(1px, 1px, 1px, 1px);height: 1px;margin: -1px;overflow: hidden;padding: 0;position: absolute;width: 1px;}#sk-container-id-1 div.sk-estimator {font-family: monospace;background-color: #f0f8ff;border: 1px dotted black;border-radius: 0.25em;box-sizing: border-box;margin-bottom: 0.5em;}#sk-container-id-1 div.sk-estimator:hover {background-color: #d4ebff;}#sk-container-id-1 div.sk-parallel-item::after {content: \"\";width: 100%;border-bottom: 1px solid gray;flex-grow: 1;}#sk-container-id-1 div.sk-label:hover label.sk-toggleable__label {background-color: #d4ebff;}#sk-container-id-1 div.sk-serial::before {content: \"\";position: absolute;border-left: 1px solid gray;box-sizing: border-box;top: 0;bottom: 0;left: 50%;z-index: 0;}#sk-container-id-1 div.sk-serial {display: flex;flex-direction: column;align-items: center;background-color: white;padding-right: 0.2em;padding-left: 0.2em;position: relative;}#sk-container-id-1 div.sk-item {position: relative;z-index: 1;}#sk-container-id-1 div.sk-parallel {display: flex;align-items: stretch;justify-content: center;background-color: white;position: relative;}#sk-container-id-1 div.sk-item::before, #sk-container-id-1 div.sk-parallel-item::before {content: \"\";position: absolute;border-left: 1px solid gray;box-sizing: border-box;top: 0;bottom: 0;left: 50%;z-index: -1;}#sk-container-id-1 div.sk-parallel-item {display: flex;flex-direction: column;z-index: 1;position: relative;background-color: white;}#sk-container-id-1 div.sk-parallel-item:first-child::after {align-self: flex-end;width: 50%;}#sk-container-id-1 div.sk-parallel-item:last-child::after {align-self: flex-start;width: 50%;}#sk-container-id-1 div.sk-parallel-item:only-child::after {width: 0;}#sk-container-id-1 div.sk-dashed-wrapped {border: 1px dashed gray;margin: 0 0.4em 0.5em 0.4em;box-sizing: border-box;padding-bottom: 0.4em;background-color: white;}#sk-container-id-1 div.sk-label label {font-family: monospace;font-weight: bold;display: inline-block;line-height: 1.2em;}#sk-container-id-1 div.sk-label-container {text-align: center;}#sk-container-id-1 div.sk-container {/* jupyter's `normalize.less` sets `[hidden] { display: none; }` but bootstrap.min.css set `[hidden] { display: none !important; }` so we also need the `!important` here to be able to override the default hidden behavior on the sphinx rendered scikit-learn.org. See: https://github.com/scikit-learn/scikit-learn/issues/21755 */display: inline-block !important;position: relative;}#sk-container-id-1 div.sk-text-repr-fallback {display: none;}</style><div id=\"sk-container-id-1\" class=\"sk-top-container\"><div class=\"sk-text-repr-fallback\"><pre>Pipeline(steps=[(&#x27;columntransformer&#x27;,\n",
       "                 ColumnTransformer(transformers=[(&#x27;pipeline&#x27;,\n",
       "                                                  Pipeline(steps=[(&#x27;standardscaler&#x27;,\n",
       "                                                                   StandardScaler())]),\n",
       "                                                  [&#x27;DEPT&#x27;, &#x27;GKIN&#x27;, &#x27;TH&#x27;, &#x27;U&#x27;,\n",
       "                                                   &#x27;K&#x27;, &#x27;KMV&#x27;, &#x27;IK&#x27;, &#x27;SM&#x27;])])),\n",
       "                (&#x27;randomforestclassifier&#x27;,\n",
       "                 RandomForestClassifier(max_depth=10, max_samples=23000,\n",
       "                                        min_samples_leaf=4, n_estimators=10,\n",
       "                                        random_state=123))])</pre><b>In a Jupyter environment, please rerun this cell to show the HTML representation or trust the notebook. <br />On GitHub, the HTML representation is unable to render, please try loading this page with nbviewer.org.</b></div><div class=\"sk-container\" hidden><div class=\"sk-item sk-dashed-wrapped\"><div class=\"sk-label-container\"><div class=\"sk-label sk-toggleable\"><input class=\"sk-toggleable__control sk-hidden--visually\" id=\"sk-estimator-id-1\" type=\"checkbox\" ><label for=\"sk-estimator-id-1\" class=\"sk-toggleable__label sk-toggleable__label-arrow\">Pipeline</label><div class=\"sk-toggleable__content\"><pre>Pipeline(steps=[(&#x27;columntransformer&#x27;,\n",
       "                 ColumnTransformer(transformers=[(&#x27;pipeline&#x27;,\n",
       "                                                  Pipeline(steps=[(&#x27;standardscaler&#x27;,\n",
       "                                                                   StandardScaler())]),\n",
       "                                                  [&#x27;DEPT&#x27;, &#x27;GKIN&#x27;, &#x27;TH&#x27;, &#x27;U&#x27;,\n",
       "                                                   &#x27;K&#x27;, &#x27;KMV&#x27;, &#x27;IK&#x27;, &#x27;SM&#x27;])])),\n",
       "                (&#x27;randomforestclassifier&#x27;,\n",
       "                 RandomForestClassifier(max_depth=10, max_samples=23000,\n",
       "                                        min_samples_leaf=4, n_estimators=10,\n",
       "                                        random_state=123))])</pre></div></div></div><div class=\"sk-serial\"><div class=\"sk-item sk-dashed-wrapped\"><div class=\"sk-label-container\"><div class=\"sk-label sk-toggleable\"><input class=\"sk-toggleable__control sk-hidden--visually\" id=\"sk-estimator-id-2\" type=\"checkbox\" ><label for=\"sk-estimator-id-2\" class=\"sk-toggleable__label sk-toggleable__label-arrow\">columntransformer: ColumnTransformer</label><div class=\"sk-toggleable__content\"><pre>ColumnTransformer(transformers=[(&#x27;pipeline&#x27;,\n",
       "                                 Pipeline(steps=[(&#x27;standardscaler&#x27;,\n",
       "                                                  StandardScaler())]),\n",
       "                                 [&#x27;DEPT&#x27;, &#x27;GKIN&#x27;, &#x27;TH&#x27;, &#x27;U&#x27;, &#x27;K&#x27;, &#x27;KMV&#x27;, &#x27;IK&#x27;,\n",
       "                                  &#x27;SM&#x27;])])</pre></div></div></div><div class=\"sk-parallel\"><div class=\"sk-parallel-item\"><div class=\"sk-item\"><div class=\"sk-label-container\"><div class=\"sk-label sk-toggleable\"><input class=\"sk-toggleable__control sk-hidden--visually\" id=\"sk-estimator-id-3\" type=\"checkbox\" ><label for=\"sk-estimator-id-3\" class=\"sk-toggleable__label sk-toggleable__label-arrow\">pipeline</label><div class=\"sk-toggleable__content\"><pre>[&#x27;DEPT&#x27;, &#x27;GKIN&#x27;, &#x27;TH&#x27;, &#x27;U&#x27;, &#x27;K&#x27;, &#x27;KMV&#x27;, &#x27;IK&#x27;, &#x27;SM&#x27;]</pre></div></div></div><div class=\"sk-serial\"><div class=\"sk-item\"><div class=\"sk-serial\"><div class=\"sk-item\"><div class=\"sk-estimator sk-toggleable\"><input class=\"sk-toggleable__control sk-hidden--visually\" id=\"sk-estimator-id-4\" type=\"checkbox\" ><label for=\"sk-estimator-id-4\" class=\"sk-toggleable__label sk-toggleable__label-arrow\">StandardScaler</label><div class=\"sk-toggleable__content\"><pre>StandardScaler()</pre></div></div></div></div></div></div></div></div></div></div><div class=\"sk-item\"><div class=\"sk-estimator sk-toggleable\"><input class=\"sk-toggleable__control sk-hidden--visually\" id=\"sk-estimator-id-5\" type=\"checkbox\" ><label for=\"sk-estimator-id-5\" class=\"sk-toggleable__label sk-toggleable__label-arrow\">RandomForestClassifier</label><div class=\"sk-toggleable__content\"><pre>RandomForestClassifier(max_depth=10, max_samples=23000, min_samples_leaf=4,\n",
       "                       n_estimators=10, random_state=123)</pre></div></div></div></div></div></div></div>"
      ],
      "text/plain": [
       "Pipeline(steps=[('columntransformer',\n",
       "                 ColumnTransformer(transformers=[('pipeline',\n",
       "                                                  Pipeline(steps=[('standardscaler',\n",
       "                                                                   StandardScaler())]),\n",
       "                                                  ['DEPT', 'GKIN', 'TH', 'U',\n",
       "                                                   'K', 'KMV', 'IK', 'SM'])])),\n",
       "                ('randomforestclassifier',\n",
       "                 RandomForestClassifier(max_depth=10, max_samples=23000,\n",
       "                                        min_samples_leaf=4, n_estimators=10,\n",
       "                                        random_state=123))])"
      ]
     },
     "execution_count": 4,
     "metadata": {},
     "output_type": "execute_result"
    }
   ],
   "source": [
    "# Тренировка модели рандомного леса для литологии \n",
    "pipe_rf_lith = make_pipeline(\n",
    "    preprocessor, RandomForestClassifier(max_depth = 10, n_estimators = 10, random_state = 123, max_samples = 23000, min_samples_leaf = 4)\n",
    ")\n",
    "#pipe_rf_lith.fit(X_train, y_train_lithology).score(X_test_forus, y_test_lithology)\n",
    "pipe_rf_lith.fit(X_train, y_train_lithology)"
   ]
  },
  {
   "cell_type": "code",
   "execution_count": 5,
   "id": "05f9e7e0",
   "metadata": {
    "execution": {
     "iopub.execute_input": "2024-09-17T07:05:28.904555Z",
     "iopub.status.busy": "2024-09-17T07:05:28.904169Z",
     "iopub.status.idle": "2024-09-17T07:05:29.875461Z",
     "shell.execute_reply": "2024-09-17T07:05:29.874229Z"
    },
    "papermill": {
     "duration": 0.979759,
     "end_time": "2024-09-17T07:05:29.878282",
     "exception": false,
     "start_time": "2024-09-17T07:05:28.898523",
     "status": "completed"
    },
    "tags": []
   },
   "outputs": [
    {
     "data": {
      "text/html": [
       "<style>#sk-container-id-2 {color: black;background-color: white;}#sk-container-id-2 pre{padding: 0;}#sk-container-id-2 div.sk-toggleable {background-color: white;}#sk-container-id-2 label.sk-toggleable__label {cursor: pointer;display: block;width: 100%;margin-bottom: 0;padding: 0.3em;box-sizing: border-box;text-align: center;}#sk-container-id-2 label.sk-toggleable__label-arrow:before {content: \"▸\";float: left;margin-right: 0.25em;color: #696969;}#sk-container-id-2 label.sk-toggleable__label-arrow:hover:before {color: black;}#sk-container-id-2 div.sk-estimator:hover label.sk-toggleable__label-arrow:before {color: black;}#sk-container-id-2 div.sk-toggleable__content {max-height: 0;max-width: 0;overflow: hidden;text-align: left;background-color: #f0f8ff;}#sk-container-id-2 div.sk-toggleable__content pre {margin: 0.2em;color: black;border-radius: 0.25em;background-color: #f0f8ff;}#sk-container-id-2 input.sk-toggleable__control:checked~div.sk-toggleable__content {max-height: 200px;max-width: 100%;overflow: auto;}#sk-container-id-2 input.sk-toggleable__control:checked~label.sk-toggleable__label-arrow:before {content: \"▾\";}#sk-container-id-2 div.sk-estimator input.sk-toggleable__control:checked~label.sk-toggleable__label {background-color: #d4ebff;}#sk-container-id-2 div.sk-label input.sk-toggleable__control:checked~label.sk-toggleable__label {background-color: #d4ebff;}#sk-container-id-2 input.sk-hidden--visually {border: 0;clip: rect(1px 1px 1px 1px);clip: rect(1px, 1px, 1px, 1px);height: 1px;margin: -1px;overflow: hidden;padding: 0;position: absolute;width: 1px;}#sk-container-id-2 div.sk-estimator {font-family: monospace;background-color: #f0f8ff;border: 1px dotted black;border-radius: 0.25em;box-sizing: border-box;margin-bottom: 0.5em;}#sk-container-id-2 div.sk-estimator:hover {background-color: #d4ebff;}#sk-container-id-2 div.sk-parallel-item::after {content: \"\";width: 100%;border-bottom: 1px solid gray;flex-grow: 1;}#sk-container-id-2 div.sk-label:hover label.sk-toggleable__label {background-color: #d4ebff;}#sk-container-id-2 div.sk-serial::before {content: \"\";position: absolute;border-left: 1px solid gray;box-sizing: border-box;top: 0;bottom: 0;left: 50%;z-index: 0;}#sk-container-id-2 div.sk-serial {display: flex;flex-direction: column;align-items: center;background-color: white;padding-right: 0.2em;padding-left: 0.2em;position: relative;}#sk-container-id-2 div.sk-item {position: relative;z-index: 1;}#sk-container-id-2 div.sk-parallel {display: flex;align-items: stretch;justify-content: center;background-color: white;position: relative;}#sk-container-id-2 div.sk-item::before, #sk-container-id-2 div.sk-parallel-item::before {content: \"\";position: absolute;border-left: 1px solid gray;box-sizing: border-box;top: 0;bottom: 0;left: 50%;z-index: -1;}#sk-container-id-2 div.sk-parallel-item {display: flex;flex-direction: column;z-index: 1;position: relative;background-color: white;}#sk-container-id-2 div.sk-parallel-item:first-child::after {align-self: flex-end;width: 50%;}#sk-container-id-2 div.sk-parallel-item:last-child::after {align-self: flex-start;width: 50%;}#sk-container-id-2 div.sk-parallel-item:only-child::after {width: 0;}#sk-container-id-2 div.sk-dashed-wrapped {border: 1px dashed gray;margin: 0 0.4em 0.5em 0.4em;box-sizing: border-box;padding-bottom: 0.4em;background-color: white;}#sk-container-id-2 div.sk-label label {font-family: monospace;font-weight: bold;display: inline-block;line-height: 1.2em;}#sk-container-id-2 div.sk-label-container {text-align: center;}#sk-container-id-2 div.sk-container {/* jupyter's `normalize.less` sets `[hidden] { display: none; }` but bootstrap.min.css set `[hidden] { display: none !important; }` so we also need the `!important` here to be able to override the default hidden behavior on the sphinx rendered scikit-learn.org. See: https://github.com/scikit-learn/scikit-learn/issues/21755 */display: inline-block !important;position: relative;}#sk-container-id-2 div.sk-text-repr-fallback {display: none;}</style><div id=\"sk-container-id-2\" class=\"sk-top-container\"><div class=\"sk-text-repr-fallback\"><pre>Pipeline(steps=[(&#x27;columntransformer&#x27;,\n",
       "                 ColumnTransformer(transformers=[(&#x27;pipeline&#x27;,\n",
       "                                                  Pipeline(steps=[(&#x27;standardscaler&#x27;,\n",
       "                                                                   StandardScaler())]),\n",
       "                                                  [&#x27;DEPT&#x27;, &#x27;GKIN&#x27;, &#x27;TH&#x27;, &#x27;U&#x27;,\n",
       "                                                   &#x27;K&#x27;, &#x27;KMV&#x27;, &#x27;IK&#x27;, &#x27;SM&#x27;])])),\n",
       "                (&#x27;randomforestclassifier&#x27;,\n",
       "                 RandomForestClassifier(max_depth=10, max_samples=25000,\n",
       "                                        min_samples_leaf=15, n_estimators=10,\n",
       "                                        random_state=123))])</pre><b>In a Jupyter environment, please rerun this cell to show the HTML representation or trust the notebook. <br />On GitHub, the HTML representation is unable to render, please try loading this page with nbviewer.org.</b></div><div class=\"sk-container\" hidden><div class=\"sk-item sk-dashed-wrapped\"><div class=\"sk-label-container\"><div class=\"sk-label sk-toggleable\"><input class=\"sk-toggleable__control sk-hidden--visually\" id=\"sk-estimator-id-6\" type=\"checkbox\" ><label for=\"sk-estimator-id-6\" class=\"sk-toggleable__label sk-toggleable__label-arrow\">Pipeline</label><div class=\"sk-toggleable__content\"><pre>Pipeline(steps=[(&#x27;columntransformer&#x27;,\n",
       "                 ColumnTransformer(transformers=[(&#x27;pipeline&#x27;,\n",
       "                                                  Pipeline(steps=[(&#x27;standardscaler&#x27;,\n",
       "                                                                   StandardScaler())]),\n",
       "                                                  [&#x27;DEPT&#x27;, &#x27;GKIN&#x27;, &#x27;TH&#x27;, &#x27;U&#x27;,\n",
       "                                                   &#x27;K&#x27;, &#x27;KMV&#x27;, &#x27;IK&#x27;, &#x27;SM&#x27;])])),\n",
       "                (&#x27;randomforestclassifier&#x27;,\n",
       "                 RandomForestClassifier(max_depth=10, max_samples=25000,\n",
       "                                        min_samples_leaf=15, n_estimators=10,\n",
       "                                        random_state=123))])</pre></div></div></div><div class=\"sk-serial\"><div class=\"sk-item sk-dashed-wrapped\"><div class=\"sk-label-container\"><div class=\"sk-label sk-toggleable\"><input class=\"sk-toggleable__control sk-hidden--visually\" id=\"sk-estimator-id-7\" type=\"checkbox\" ><label for=\"sk-estimator-id-7\" class=\"sk-toggleable__label sk-toggleable__label-arrow\">columntransformer: ColumnTransformer</label><div class=\"sk-toggleable__content\"><pre>ColumnTransformer(transformers=[(&#x27;pipeline&#x27;,\n",
       "                                 Pipeline(steps=[(&#x27;standardscaler&#x27;,\n",
       "                                                  StandardScaler())]),\n",
       "                                 [&#x27;DEPT&#x27;, &#x27;GKIN&#x27;, &#x27;TH&#x27;, &#x27;U&#x27;, &#x27;K&#x27;, &#x27;KMV&#x27;, &#x27;IK&#x27;,\n",
       "                                  &#x27;SM&#x27;])])</pre></div></div></div><div class=\"sk-parallel\"><div class=\"sk-parallel-item\"><div class=\"sk-item\"><div class=\"sk-label-container\"><div class=\"sk-label sk-toggleable\"><input class=\"sk-toggleable__control sk-hidden--visually\" id=\"sk-estimator-id-8\" type=\"checkbox\" ><label for=\"sk-estimator-id-8\" class=\"sk-toggleable__label sk-toggleable__label-arrow\">pipeline</label><div class=\"sk-toggleable__content\"><pre>[&#x27;DEPT&#x27;, &#x27;GKIN&#x27;, &#x27;TH&#x27;, &#x27;U&#x27;, &#x27;K&#x27;, &#x27;KMV&#x27;, &#x27;IK&#x27;, &#x27;SM&#x27;]</pre></div></div></div><div class=\"sk-serial\"><div class=\"sk-item\"><div class=\"sk-serial\"><div class=\"sk-item\"><div class=\"sk-estimator sk-toggleable\"><input class=\"sk-toggleable__control sk-hidden--visually\" id=\"sk-estimator-id-9\" type=\"checkbox\" ><label for=\"sk-estimator-id-9\" class=\"sk-toggleable__label sk-toggleable__label-arrow\">StandardScaler</label><div class=\"sk-toggleable__content\"><pre>StandardScaler()</pre></div></div></div></div></div></div></div></div></div></div><div class=\"sk-item\"><div class=\"sk-estimator sk-toggleable\"><input class=\"sk-toggleable__control sk-hidden--visually\" id=\"sk-estimator-id-10\" type=\"checkbox\" ><label for=\"sk-estimator-id-10\" class=\"sk-toggleable__label sk-toggleable__label-arrow\">RandomForestClassifier</label><div class=\"sk-toggleable__content\"><pre>RandomForestClassifier(max_depth=10, max_samples=25000, min_samples_leaf=15,\n",
       "                       n_estimators=10, random_state=123)</pre></div></div></div></div></div></div></div>"
      ],
      "text/plain": [
       "Pipeline(steps=[('columntransformer',\n",
       "                 ColumnTransformer(transformers=[('pipeline',\n",
       "                                                  Pipeline(steps=[('standardscaler',\n",
       "                                                                   StandardScaler())]),\n",
       "                                                  ['DEPT', 'GKIN', 'TH', 'U',\n",
       "                                                   'K', 'KMV', 'IK', 'SM'])])),\n",
       "                ('randomforestclassifier',\n",
       "                 RandomForestClassifier(max_depth=10, max_samples=25000,\n",
       "                                        min_samples_leaf=15, n_estimators=10,\n",
       "                                        random_state=123))])"
      ]
     },
     "execution_count": 5,
     "metadata": {},
     "output_type": "execute_result"
    }
   ],
   "source": [
    "# Для стратиграфии\n",
    "pipe_rf_strat = make_pipeline(\n",
    "    preprocessor, RandomForestClassifier(max_depth = 10, n_estimators = 10, random_state=123, max_samples = 25000, min_samples_leaf = 15)\n",
    ")\n",
    "#pipe_rf_strat.fit(X_train, y_train_stratigraphy).score(X_test_forus, y_test_stratigraphy)\n",
    "pipe_rf_strat.fit(X_train, y_train_stratigraphy)"
   ]
  },
  {
   "cell_type": "code",
   "execution_count": 6,
   "id": "8fe9ba6f",
   "metadata": {
    "execution": {
     "iopub.execute_input": "2024-09-17T07:05:29.889257Z",
     "iopub.status.busy": "2024-09-17T07:05:29.888553Z",
     "iopub.status.idle": "2024-09-17T07:05:29.902890Z",
     "shell.execute_reply": "2024-09-17T07:05:29.901692Z"
    },
    "papermill": {
     "duration": 0.022042,
     "end_time": "2024-09-17T07:05:29.904986",
     "exception": false,
     "start_time": "2024-09-17T07:05:29.882944",
     "status": "completed"
    },
    "tags": []
   },
   "outputs": [
    {
     "data": {
      "text/html": [
       "<div>\n",
       "<style scoped>\n",
       "    .dataframe tbody tr th:only-of-type {\n",
       "        vertical-align: middle;\n",
       "    }\n",
       "\n",
       "    .dataframe tbody tr th {\n",
       "        vertical-align: top;\n",
       "    }\n",
       "\n",
       "    .dataframe thead th {\n",
       "        text-align: right;\n",
       "    }\n",
       "</style>\n",
       "<table border=\"1\" class=\"dataframe\">\n",
       "  <thead>\n",
       "    <tr style=\"text-align: right;\">\n",
       "      <th></th>\n",
       "      <th>Importance</th>\n",
       "    </tr>\n",
       "  </thead>\n",
       "  <tbody>\n",
       "    <tr>\n",
       "      <th>SM</th>\n",
       "      <td>0.210868</td>\n",
       "    </tr>\n",
       "    <tr>\n",
       "      <th>K</th>\n",
       "      <td>0.199846</td>\n",
       "    </tr>\n",
       "    <tr>\n",
       "      <th>KMV</th>\n",
       "      <td>0.142385</td>\n",
       "    </tr>\n",
       "    <tr>\n",
       "      <th>GKIN</th>\n",
       "      <td>0.111663</td>\n",
       "    </tr>\n",
       "    <tr>\n",
       "      <th>DEPT</th>\n",
       "      <td>0.100505</td>\n",
       "    </tr>\n",
       "    <tr>\n",
       "      <th>IK</th>\n",
       "      <td>0.089794</td>\n",
       "    </tr>\n",
       "    <tr>\n",
       "      <th>TH</th>\n",
       "      <td>0.088012</td>\n",
       "    </tr>\n",
       "    <tr>\n",
       "      <th>U</th>\n",
       "      <td>0.056927</td>\n",
       "    </tr>\n",
       "  </tbody>\n",
       "</table>\n",
       "</div>"
      ],
      "text/plain": [
       "      Importance\n",
       "SM      0.210868\n",
       "K       0.199846\n",
       "KMV     0.142385\n",
       "GKIN    0.111663\n",
       "DEPT    0.100505\n",
       "IK      0.089794\n",
       "TH      0.088012\n",
       "U       0.056927"
      ]
     },
     "execution_count": 6,
     "metadata": {},
     "output_type": "execute_result"
    }
   ],
   "source": [
    "# Важность переменных для измерения литологии\n",
    "data = {\n",
    "    \"Importance\": pipe_rf_lith.named_steps[\"randomforestclassifier\"].feature_importances_,\n",
    "}\n",
    "rf_imp_df = pd.DataFrame(\n",
    "    data=data,\n",
    "    index=features,\n",
    ").sort_values(by=\"Importance\", ascending=False)\n",
    "rf_imp_df"
   ]
  },
  {
   "cell_type": "code",
   "execution_count": 7,
   "id": "dcc34377",
   "metadata": {
    "execution": {
     "iopub.execute_input": "2024-09-17T07:05:29.916460Z",
     "iopub.status.busy": "2024-09-17T07:05:29.915594Z",
     "iopub.status.idle": "2024-09-17T07:05:29.928231Z",
     "shell.execute_reply": "2024-09-17T07:05:29.927152Z"
    },
    "papermill": {
     "duration": 0.021,
     "end_time": "2024-09-17T07:05:29.930567",
     "exception": false,
     "start_time": "2024-09-17T07:05:29.909567",
     "status": "completed"
    },
    "tags": []
   },
   "outputs": [
    {
     "data": {
      "text/html": [
       "<div>\n",
       "<style scoped>\n",
       "    .dataframe tbody tr th:only-of-type {\n",
       "        vertical-align: middle;\n",
       "    }\n",
       "\n",
       "    .dataframe tbody tr th {\n",
       "        vertical-align: top;\n",
       "    }\n",
       "\n",
       "    .dataframe thead th {\n",
       "        text-align: right;\n",
       "    }\n",
       "</style>\n",
       "<table border=\"1\" class=\"dataframe\">\n",
       "  <thead>\n",
       "    <tr style=\"text-align: right;\">\n",
       "      <th></th>\n",
       "      <th>Importance</th>\n",
       "    </tr>\n",
       "  </thead>\n",
       "  <tbody>\n",
       "    <tr>\n",
       "      <th>SM</th>\n",
       "      <td>0.222979</td>\n",
       "    </tr>\n",
       "    <tr>\n",
       "      <th>K</th>\n",
       "      <td>0.210100</td>\n",
       "    </tr>\n",
       "    <tr>\n",
       "      <th>KMV</th>\n",
       "      <td>0.147965</td>\n",
       "    </tr>\n",
       "    <tr>\n",
       "      <th>GKIN</th>\n",
       "      <td>0.107461</td>\n",
       "    </tr>\n",
       "    <tr>\n",
       "      <th>DEPT</th>\n",
       "      <td>0.098076</td>\n",
       "    </tr>\n",
       "    <tr>\n",
       "      <th>TH</th>\n",
       "      <td>0.086563</td>\n",
       "    </tr>\n",
       "    <tr>\n",
       "      <th>IK</th>\n",
       "      <td>0.077998</td>\n",
       "    </tr>\n",
       "    <tr>\n",
       "      <th>U</th>\n",
       "      <td>0.048856</td>\n",
       "    </tr>\n",
       "  </tbody>\n",
       "</table>\n",
       "</div>"
      ],
      "text/plain": [
       "      Importance\n",
       "SM      0.222979\n",
       "K       0.210100\n",
       "KMV     0.147965\n",
       "GKIN    0.107461\n",
       "DEPT    0.098076\n",
       "TH      0.086563\n",
       "IK      0.077998\n",
       "U       0.048856"
      ]
     },
     "execution_count": 7,
     "metadata": {},
     "output_type": "execute_result"
    }
   ],
   "source": [
    "# Важность для стратиграфии\n",
    "data = {\n",
    "    \"Importance\": pipe_rf_strat.named_steps[\"randomforestclassifier\"].feature_importances_,\n",
    "}\n",
    "rf_imp_df = pd.DataFrame(\n",
    "    data=data,\n",
    "    index=features,\n",
    ").sort_values(by=\"Importance\", ascending=False)\n",
    "rf_imp_df"
   ]
  },
  {
   "cell_type": "code",
   "execution_count": 8,
   "id": "55f98f60",
   "metadata": {
    "execution": {
     "iopub.execute_input": "2024-09-17T07:05:29.942011Z",
     "iopub.status.busy": "2024-09-17T07:05:29.941586Z",
     "iopub.status.idle": "2024-09-17T07:05:30.645526Z",
     "shell.execute_reply": "2024-09-17T07:05:30.644563Z"
    },
    "papermill": {
     "duration": 0.712472,
     "end_time": "2024-09-17T07:05:30.647967",
     "exception": false,
     "start_time": "2024-09-17T07:05:29.935495",
     "status": "completed"
    },
    "tags": []
   },
   "outputs": [],
   "source": [
    "# Создание таблицы для сохранения предсказаний\n",
    "prediction = pd.DataFrame()\n",
    "\n",
    "for X_test_file_path in X_test_folder.iterdir():\n",
    "    well_name = X_test_file_path.name\n",
    "    # Предотвращение чтения скрытых папок\n",
    "    if well_name.endswith(\"csv\"):\n",
    "        # Получение номера скважины\n",
    "        well_id = int(well_name.split(\".\")[0].split(\"_\")[1])\n",
    "        # Чтение данных ГИС\n",
    "        X_test = pd.read_csv(X_test_file_path)\n",
    "        \n",
    "        X_test[\"K-squared\"] = X_test[\"K\"] ** 2\n",
    "        # Инференс модели определения литологии\n",
    "        y_pred_lithology = pipe_rf_lith.predict(X_test[features])\n",
    "        # Инференс модели определения стратиграфии\n",
    "        y_pred_stratigraphy = pipe_rf_strat.predict(X_test[features])\n",
    "        # Формирование таблицы с предсказаниями для скважины\n",
    "        y_pred = pd.DataFrame({'DEPT': X_test['DEPT'], 'well_id': well_id, 'lithology': y_pred_lithology, 'stratigraphy': y_pred_stratigraphy})\n",
    "        # Сортировка по глубине\n",
    "        y_pred.sort_values(by='DEPT', inplace=True)\n",
    "        # Добавление предсказаний по скважине в общую таблицу\n",
    "        prediction = pd.concat([prediction, y_pred])     "
   ]
  },
  {
   "cell_type": "code",
   "execution_count": 9,
   "id": "ad6fc805",
   "metadata": {
    "execution": {
     "iopub.execute_input": "2024-09-17T07:05:30.659542Z",
     "iopub.status.busy": "2024-09-17T07:05:30.658631Z",
     "iopub.status.idle": "2024-09-17T07:05:30.668847Z",
     "shell.execute_reply": "2024-09-17T07:05:30.667855Z"
    },
    "papermill": {
     "duration": 0.018547,
     "end_time": "2024-09-17T07:05:30.671308",
     "exception": false,
     "start_time": "2024-09-17T07:05:30.652761",
     "status": "completed"
    },
    "tags": []
   },
   "outputs": [
    {
     "name": "stdout",
     "output_type": "stream",
     "text": [
      "      DEPT  well_id           lithology stratigraphy\n",
      "0      3.3       26            Песчаник         J1uk\n",
      "1      3.4       26            Песчаник         J1uk\n",
      "2      3.5       26            Песчаник         J1uk\n",
      "3      3.6       26            Песчаник         J1uk\n",
      "4      3.7       26            Песчаник         J1uk\n",
      "..     ...      ...                 ...          ...\n",
      "989  102.5       26  Карбонатные породы         G3hl\n",
      "990  102.6       26  Карбонатные породы         G3hl\n",
      "991  102.7       26  Карбонатные породы         G3hl\n",
      "992  102.8       26  Карбонатные породы         G3hl\n",
      "993  102.9       26  Карбонатные породы         G3hl\n",
      "\n",
      "[994 rows x 4 columns]\n"
     ]
    }
   ],
   "source": [
    "print(y_pred)"
   ]
  },
  {
   "cell_type": "code",
   "execution_count": 10,
   "id": "b89e7e86",
   "metadata": {
    "execution": {
     "iopub.execute_input": "2024-09-17T07:05:30.683113Z",
     "iopub.status.busy": "2024-09-17T07:05:30.682126Z",
     "iopub.status.idle": "2024-09-17T07:05:30.687503Z",
     "shell.execute_reply": "2024-09-17T07:05:30.686474Z"
    },
    "papermill": {
     "duration": 0.013553,
     "end_time": "2024-09-17T07:05:30.689687",
     "exception": false,
     "start_time": "2024-09-17T07:05:30.676134",
     "status": "completed"
    },
    "tags": []
   },
   "outputs": [],
   "source": [
    "folder_results = Path(\"data/results_example\")\n",
    "folder_results.mkdir(parents=True, exist_ok=True)"
   ]
  },
  {
   "cell_type": "code",
   "execution_count": 11,
   "id": "5b832da4",
   "metadata": {
    "execution": {
     "iopub.execute_input": "2024-09-17T07:05:30.701616Z",
     "iopub.status.busy": "2024-09-17T07:05:30.700728Z",
     "iopub.status.idle": "2024-09-17T07:05:31.138270Z",
     "shell.execute_reply": "2024-09-17T07:05:31.137029Z"
    },
    "papermill": {
     "duration": 0.446702,
     "end_time": "2024-09-17T07:05:31.141202",
     "exception": false,
     "start_time": "2024-09-17T07:05:30.694500",
     "status": "completed"
    },
    "tags": []
   },
   "outputs": [],
   "source": [
    "# Переведем глубину в сантиметры\n",
    "prediction['DEPT'] = (prediction['DEPT'] * 100).astype(int)\n",
    "\n",
    "'''\n",
    "Your solution's first column will be the ID Column, used to correlate rows between your solution and the participant's submission. \n",
    "Your solution must have unique values in this column.\n",
    "'''\n",
    "\n",
    "def get_id(well_id, dept):\n",
    "    \"\"\"\n",
    "    Функция для создания id строки файла отправки \n",
    "    Из номера скважины и глубины в сантиметрах\n",
    "    \n",
    "    Важно для kaggle\n",
    "    \"\"\"\n",
    "    return str(well_id) + \"_\" + str(dept)\n",
    "\n",
    "prediction['ID'] = prediction.apply(lambda row: get_id(row['well_id'], row['DEPT']), axis=1)\n",
    "# Важно сохранить в следующем порядке\n",
    "\n",
    "prediction = prediction[['ID', 'well_id', 'lithology', 'stratigraphy']]\n",
    "\n",
    "# Важно сохранить с аргументом index=False\n",
    "prediction.to_csv(folder_results / \"prediction_example.csv\", index=False)"
   ]
  }
 ],
 "metadata": {
  "kaggle": {
   "accelerator": "none",
   "dataSources": [
    {
     "datasetId": 5666267,
     "sourceId": 9348334,
     "sourceType": "datasetVersion"
    }
   ],
   "dockerImageVersionId": 30761,
   "isGpuEnabled": false,
   "isInternetEnabled": false,
   "language": "python",
   "sourceType": "notebook"
  },
  "kernelspec": {
   "display_name": "Python 3",
   "language": "python",
   "name": "python3"
  },
  "language_info": {
   "codemirror_mode": {
    "name": "ipython",
    "version": 3
   },
   "file_extension": ".py",
   "mimetype": "text/x-python",
   "name": "python",
   "nbconvert_exporter": "python",
   "pygments_lexer": "ipython3",
   "version": "3.10.14"
  },
  "papermill": {
   "default_parameters": {},
   "duration": 11.449752,
   "end_time": "2024-09-17T07:05:31.768597",
   "environment_variables": {},
   "exception": null,
   "input_path": "__notebook__.ipynb",
   "output_path": "__notebook__.ipynb",
   "parameters": {},
   "start_time": "2024-09-17T07:05:20.318845",
   "version": "2.6.0"
  }
 },
 "nbformat": 4,
 "nbformat_minor": 5
}
